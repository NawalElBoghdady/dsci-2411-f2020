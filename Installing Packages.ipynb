{
 "cells": [
  {
   "cell_type": "markdown",
   "metadata": {},
   "source": [
    "# How to install packages\n",
    "\n",
    "1. Open Anaconda Prompt (miniconda)\n",
    "2. We will need the following packages for our work:\n",
    "    1. **numpy**  \n",
    "    Type <code>conda install numpy --yes</code> & press Enter to install numpy\n",
    "    \n",
    "    2. **pandas**  \n",
    "    Type <code>conda install pandas --yes</code> & press Enter to install pandas\n",
    "    \n",
    "    3. **matplotlib**  \n",
    "    Type <code>conda install matplotlib --yes</code> & press Enter to install matplotlib\n",
    "    \n",
    "    4. **scipy**  \n",
    "    Type <code>conda install scipy --yes</code> & press Enter to install scipy\n",
    "    \n",
    "    5. **pyspark**  \n",
    "    Type <code>conda install pyspark --yes</code> & press Enter to install pyspark\n",
    "    \n",
    "    6. **tensorflow**  \n",
    "    Type <code>conda install tensorflow --yes</code> & press Enter to install tensorflow\n",
    "    \n",
    "    7. **keras**  \n",
    "    Type <code>conda install keras --yes</code> & press Enter to install keras\n",
    "    \n",
    "    8. **ipywidgets**  \n",
    "    Type <code>conda install ipywidegts --yes</code> & press Enter to install ipywidgets\n",
    "    \n",
    "    9. **node.js**  \n",
    "    Type <code>conda install -c conda-forge nodejs</code> & press Enter to install node.js\n",
    "    \n",
    "    10. **seaborn**\n",
    "    Type <code>conda install seaborn --yes</code> & press Enter to install seaborn\n",
    "    \n",
    "3. We will need to enable widgets to better display our output. Use this command:  \n",
    "<code>jupyter labextension install @jupyter-widgets/jupyterlab-manager</code>\n",
    "\n",
    "4. Then we need to install the variable inspector that will allow us to view our variables:  \n",
    "<code>jupyter labextension install @lckr/jupyterlab_variableinspector</code>\n",
    "\n",
    "To run the variable inspector:\n",
    "1. Open jupyter lab by typing the command <code>jupyter lab</code>\n",
    "2. Open the .ipynb file you want.\n",
    "3. Right-click and choose *Open Variable Inspector*.\n",
    "\n",
    "More detailed information can be found here: \n",
    "https://github.com/lckr/jupyterlab-variableInspector\n",
    "    "
   ]
  },
  {
   "cell_type": "code",
   "execution_count": null,
   "metadata": {},
   "outputs": [],
   "source": []
  }
 ],
 "metadata": {
  "kernelspec": {
   "display_name": "Python 3",
   "language": "python",
   "name": "python3"
  },
  "language_info": {
   "codemirror_mode": {
    "name": "ipython",
    "version": 3
   },
   "file_extension": ".py",
   "mimetype": "text/x-python",
   "name": "python",
   "nbconvert_exporter": "python",
   "pygments_lexer": "ipython3",
   "version": "3.7.7"
  }
 },
 "nbformat": 4,
 "nbformat_minor": 4
}
