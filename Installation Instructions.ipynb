{
 "cells": [
  {
   "cell_type": "markdown",
   "metadata": {},
   "source": [
    "# Introduction\n",
    "\n",
    "This file contains information on how to install and run Jupyter Lab. Jupyter Lab is a wonderful interactive tool that allows data scientists to merge text, code, plots, and analyses into a single coherent document that can be shared with other people as well. The code and analyses are interactive, so you can change the code inside these so-called 'Notebook' documents and run the code that you changed to see how this will affect the output.\n",
    "Jupyter Lab runs in the internet browser, and can show you all the files you have on your system.\n",
    "\n",
    "# Installation Instructions:\n",
    "1.\tInstall Anaconda (miniconda3): https://docs.conda.io/en/latest/miniconda.html\n",
    "2.\tOpen Anaconda Prompt (miniconda3) by going to Start -> Anaconda Prompt (miniconda3)\n",
    "<img src=\"Anaconda.png\" style=\"height:350px\">\n",
    "3.\tCopy-paste this code and press enter: <code>conda install -c conda-forge jupyterlab</code>\n",
    "4.\tPress <code>y</code> then enter\n",
    "5.\tWhen installation is done, run the command <code>jupyter lab</code>\n",
    "6.\tJupyter lab should open in your browser \n"
   ]
  },
  {
   "cell_type": "code",
   "execution_count": 1,
   "metadata": {},
   "outputs": [
    {
     "ename": "SyntaxError",
     "evalue": "unexpected character after line continuation character (<ipython-input-1-51c3be0364ad>, line 1)",
     "output_type": "error",
     "traceback": [
      "\u001b[1;36m  File \u001b[1;32m\"<ipython-input-1-51c3be0364ad>\"\u001b[1;36m, line \u001b[1;32m1\u001b[0m\n\u001b[1;33m    \\usepackage{fancyhdr}\u001b[0m\n\u001b[1;37m                         ^\u001b[0m\n\u001b[1;31mSyntaxError\u001b[0m\u001b[1;31m:\u001b[0m unexpected character after line continuation character\n"
     ]
    }
   ],
   "source": []
  },
  {
   "cell_type": "code",
   "execution_count": null,
   "metadata": {},
   "outputs": [],
   "source": []
  }
 ],
 "metadata": {
  "kernelspec": {
   "display_name": "Python 3",
   "language": "python",
   "name": "python3"
  },
  "language_info": {
   "codemirror_mode": {
    "name": "ipython",
    "version": 3
   },
   "file_extension": ".py",
   "mimetype": "text/x-python",
   "name": "python",
   "nbconvert_exporter": "python",
   "pygments_lexer": "ipython3",
   "version": "3.7.7"
  }
 },
 "nbformat": 4,
 "nbformat_minor": 4
}
